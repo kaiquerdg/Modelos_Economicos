{
 "cells": [
  {
   "cell_type": "code",
   "execution_count": 1,
   "metadata": {},
   "outputs": [
    {
     "name": "stdout",
     "output_type": "stream",
     "text": [
      "Os equilíbrios são: [['V', 'V'], ['L', 'L']]\n"
     ]
    }
   ],
   "source": [
    "# Cria a matriz de payoffs\n",
    "payoffs = [[5, 5], [0, 3], [3, 0], [3, 3]] # Pares de payoffs\n",
    "\n",
    "# Cria listas vazias das escolhas ótimas\n",
    "otimo_c1 = []\n",
    "otimo_c2 = []\n",
    "\n",
    "# Cria a lista com as possíveis pares de escolha\n",
    "escolhas = [[\"V\", \"V\"], [\"V\", \"L\"], [\"L\", \"V\"], [\"L\", \"L\"]]\n",
    "\n",
    "# Aqui, calcularemos as melhores escolhas para o caçador 1\n",
    "\n",
    "# Dado que o caçador 2 escolheu veado, o caçador 1 faz sua escolha:\n",
    "if payoffs[0][0] >= payoffs[2][0]:\n",
    "    otimo_c1.append(escolhas[0])\n",
    "if payoffs[0][0] <= payoffs[2][0]:\n",
    "    otimo_c1.append(escolhas[2])\n",
    "\n",
    "# Dado que o caçador 2 escolheu lebre, o caçador 1 faz sua escolha:\n",
    "if payoffs[1][0] >= payoffs[3][0]:\n",
    "    otimo_c1.append(escolhas[1])\n",
    "if payoffs[1][0] <= payoffs[3][0]:\n",
    "    otimo_c1.append(escolhas[3])\n",
    "    \n",
    "# Aqui, calcularemos as melhores escolhas para o caçador 2\n",
    "\n",
    "# Dado que o caçador 1 escolheu veado, o caçador 2 faz sua escolha:  \n",
    "if payoffs[0][1] >= payoffs[1][1]:\n",
    "    otimo_c2.append(escolhas[0])\n",
    "if payoffs[0][1] <= payoffs[1][1]:\n",
    "    otimo_c2.append(escolhas[1])\n",
    "    \n",
    "# Dado que o caçador 1 escolheu lebre, o caçador 2 faz sua escolha:   \n",
    "if payoffs[2][1] >= payoffs[3][1]:\n",
    "    otimo_c2.append(escolhas[2])\n",
    "if payoffs[2][1] <= payoffs[3][1]:\n",
    "    otimo_c2.append(escolhas[3])\n",
    "\n",
    "# Repare que, para payoffs iguais, as duas estratégias são anexadas\n",
    "\n",
    "# Calcula os equilíbrios do modelo utilizando um loop\n",
    "equilibrios = []\n",
    "\n",
    "for o in otimo_c1:\n",
    "    if o in otimo_c2:\n",
    "        equilibrios.append(o)\n",
    "\n",
    "# Printa os equilíbrios\n",
    "if len(equilibrios) > 1:        \n",
    "    print(\"Os equilíbrios são:\", equilibrios)\n",
    "else:\n",
    "    print(\"O equilíbrio é:\", equilibrios)"
   ]
  }
 ],
 "metadata": {
  "kernelspec": {
   "display_name": "Python 3",
   "language": "python",
   "name": "python3"
  },
  "language_info": {
   "codemirror_mode": {
    "name": "ipython",
    "version": 3
   },
   "file_extension": ".py",
   "mimetype": "text/x-python",
   "name": "python",
   "nbconvert_exporter": "python",
   "pygments_lexer": "ipython3",
   "version": "3.11.8"
  }
 },
 "nbformat": 4,
 "nbformat_minor": 2
}
